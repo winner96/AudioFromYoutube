{
  "nbformat": 4,
  "nbformat_minor": 0,
  "metadata": {
    "colab": {
      "name": "avspeech_get_data.ipynb",
      "provenance": [],
      "collapsed_sections": []
    },
    "kernelspec": {
      "name": "python3",
      "display_name": "Python 3"
    }
  },
  "cells": [
    {
      "cell_type": "code",
      "metadata": {
        "id": "3A2-qXE7kj_p",
        "colab": {
          "base_uri": "https://localhost:8080/"
        },
        "outputId": "0715c664-8f5d-4c23-bc88-f98213656785"
      },
      "source": [
        "!ffmpeg -version"
      ],
      "execution_count": null,
      "outputs": [
        {
          "output_type": "stream",
          "text": [
            "ffmpeg version 3.4.8-0ubuntu0.2 Copyright (c) 2000-2020 the FFmpeg developers\n",
            "built with gcc 7 (Ubuntu 7.5.0-3ubuntu1~18.04)\n",
            "configuration: --prefix=/usr --extra-version=0ubuntu0.2 --toolchain=hardened --libdir=/usr/lib/x86_64-linux-gnu --incdir=/usr/include/x86_64-linux-gnu --enable-gpl --disable-stripping --enable-avresample --enable-avisynth --enable-gnutls --enable-ladspa --enable-libass --enable-libbluray --enable-libbs2b --enable-libcaca --enable-libcdio --enable-libflite --enable-libfontconfig --enable-libfreetype --enable-libfribidi --enable-libgme --enable-libgsm --enable-libmp3lame --enable-libmysofa --enable-libopenjpeg --enable-libopenmpt --enable-libopus --enable-libpulse --enable-librubberband --enable-librsvg --enable-libshine --enable-libsnappy --enable-libsoxr --enable-libspeex --enable-libssh --enable-libtheora --enable-libtwolame --enable-libvorbis --enable-libvpx --enable-libwavpack --enable-libwebp --enable-libx265 --enable-libxml2 --enable-libxvid --enable-libzmq --enable-libzvbi --enable-omx --enable-openal --enable-opengl --enable-sdl2 --enable-libdc1394 --enable-libdrm --enable-libiec61883 --enable-chromaprint --enable-frei0r --enable-libopencv --enable-libx264 --enable-shared\n",
            "libavutil      55. 78.100 / 55. 78.100\n",
            "libavcodec     57.107.100 / 57.107.100\n",
            "libavformat    57. 83.100 / 57. 83.100\n",
            "libavdevice    57. 10.100 / 57. 10.100\n",
            "libavfilter     6.107.100 /  6.107.100\n",
            "libavresample   3.  7.  0 /  3.  7.  0\n",
            "libswscale      4.  8.100 /  4.  8.100\n",
            "libswresample   2.  9.100 /  2.  9.100\n",
            "libpostproc    54.  7.100 / 54.  7.100\n"
          ],
          "name": "stdout"
        }
      ]
    },
    {
      "cell_type": "code",
      "metadata": {
        "id": "EyibkZLZruhH",
        "colab": {
          "base_uri": "https://localhost:8080/"
        },
        "outputId": "bb924b33-49e1-4950-c24c-0fb84787c0b8"
      },
      "source": [
        "from google.colab import drive\n",
        "drive.mount(\"/content/drive\")"
      ],
      "execution_count": null,
      "outputs": [
        {
          "output_type": "stream",
          "text": [
            "Mounted at /content/drive\n"
          ],
          "name": "stdout"
        }
      ]
    },
    {
      "cell_type": "code",
      "metadata": {
        "id": "sRyFIJOotMCd",
        "colab": {
          "base_uri": "https://localhost:8080/"
        },
        "outputId": "38bc0bbe-a376-4c2c-ea9b-2a5728e0c678"
      },
      "source": [
        "pip install --upgrade youtube-dl"
      ],
      "execution_count": null,
      "outputs": [
        {
          "output_type": "stream",
          "text": [
            "Requirement already up-to-date: youtube-dl in /usr/local/lib/python3.6/dist-packages (2020.11.17)\n"
          ],
          "name": "stdout"
        }
      ]
    },
    {
      "cell_type": "code",
      "metadata": {
        "id": "3bLLvr4-LP65"
      },
      "source": [
        "def c_time(time):\n",
        "  h = int(time/3600)\n",
        "  time = time%3600\n",
        "  m = int(time/60)\n",
        "  s = time%60\n",
        "\n",
        "  return '{:02}'.format(h) +':'+ '{:02}'.format(m) +':'+ '{:06.3f}'.format(s)"
      ],
      "execution_count": null,
      "outputs": []
    },
    {
      "cell_type": "code",
      "metadata": {
        "id": "t-Er_BanH21a",
        "colab": {
          "base_uri": "https://localhost:8080/",
          "height": 402
        },
        "outputId": "c7f88e20-27db-4e55-9a60-99c30b6c61c1"
      },
      "source": [
        "import pandas as pd\n",
        "df = pd.read_csv('/content/drive/MyDrive/avspeech_train.csv', header =None, usecols = [0,1,2])"
      ],
      "execution_count": null,
      "outputs": [
        {
          "output_type": "execute_result",
          "data": {
            "text/html": [
              "<div>\n",
              "<style scoped>\n",
              "    .dataframe tbody tr th:only-of-type {\n",
              "        vertical-align: middle;\n",
              "    }\n",
              "\n",
              "    .dataframe tbody tr th {\n",
              "        vertical-align: top;\n",
              "    }\n",
              "\n",
              "    .dataframe thead th {\n",
              "        text-align: right;\n",
              "    }\n",
              "</style>\n",
              "<table border=\"1\" class=\"dataframe\">\n",
              "  <thead>\n",
              "    <tr style=\"text-align: right;\">\n",
              "      <th></th>\n",
              "      <th>0</th>\n",
              "      <th>1</th>\n",
              "      <th>2</th>\n",
              "    </tr>\n",
              "  </thead>\n",
              "  <tbody>\n",
              "    <tr>\n",
              "      <th>0</th>\n",
              "      <td>CJoOwXcjhds</td>\n",
              "      <td>233.266000</td>\n",
              "      <td>239.367000</td>\n",
              "    </tr>\n",
              "    <tr>\n",
              "      <th>1</th>\n",
              "      <td>AvWWVOgaMlk</td>\n",
              "      <td>90.000000</td>\n",
              "      <td>93.566667</td>\n",
              "    </tr>\n",
              "    <tr>\n",
              "      <th>2</th>\n",
              "      <td>Y8HMIm8mdns</td>\n",
              "      <td>171.607767</td>\n",
              "      <td>174.607767</td>\n",
              "    </tr>\n",
              "    <tr>\n",
              "      <th>3</th>\n",
              "      <td>akwvpAiLFk0</td>\n",
              "      <td>144.680000</td>\n",
              "      <td>150.000000</td>\n",
              "    </tr>\n",
              "    <tr>\n",
              "      <th>4</th>\n",
              "      <td>Swss72CHSWg</td>\n",
              "      <td>90.023267</td>\n",
              "      <td>97.297200</td>\n",
              "    </tr>\n",
              "    <tr>\n",
              "      <th>...</th>\n",
              "      <td>...</td>\n",
              "      <td>...</td>\n",
              "      <td>...</td>\n",
              "    </tr>\n",
              "    <tr>\n",
              "      <th>2621840</th>\n",
              "      <td>Ki8M7q-jjq4</td>\n",
              "      <td>120.055044</td>\n",
              "      <td>124.664600</td>\n",
              "    </tr>\n",
              "    <tr>\n",
              "      <th>2621841</th>\n",
              "      <td>lI8yey-mlhM</td>\n",
              "      <td>54.654000</td>\n",
              "      <td>58.625000</td>\n",
              "    </tr>\n",
              "    <tr>\n",
              "      <th>2621842</th>\n",
              "      <td>IcL3dkz0RYc</td>\n",
              "      <td>109.566667</td>\n",
              "      <td>120.000000</td>\n",
              "    </tr>\n",
              "    <tr>\n",
              "      <th>2621843</th>\n",
              "      <td>xGrSQo3FAiA</td>\n",
              "      <td>137.996167</td>\n",
              "      <td>141.399567</td>\n",
              "    </tr>\n",
              "    <tr>\n",
              "      <th>2621844</th>\n",
              "      <td>Fia8MSLPoWU</td>\n",
              "      <td>15.115000</td>\n",
              "      <td>29.714000</td>\n",
              "    </tr>\n",
              "  </tbody>\n",
              "</table>\n",
              "<p>2621845 rows × 3 columns</p>\n",
              "</div>"
            ],
            "text/plain": [
              "                   0           1           2\n",
              "0        CJoOwXcjhds  233.266000  239.367000\n",
              "1        AvWWVOgaMlk   90.000000   93.566667\n",
              "2        Y8HMIm8mdns  171.607767  174.607767\n",
              "3        akwvpAiLFk0  144.680000  150.000000\n",
              "4        Swss72CHSWg   90.023267   97.297200\n",
              "...              ...         ...         ...\n",
              "2621840  Ki8M7q-jjq4  120.055044  124.664600\n",
              "2621841  lI8yey-mlhM   54.654000   58.625000\n",
              "2621842  IcL3dkz0RYc  109.566667  120.000000\n",
              "2621843  xGrSQo3FAiA  137.996167  141.399567\n",
              "2621844  Fia8MSLPoWU   15.115000   29.714000\n",
              "\n",
              "[2621845 rows x 3 columns]"
            ]
          },
          "metadata": {
            "tags": []
          },
          "execution_count": 14
        }
      ]
    },
    {
      "cell_type": "code",
      "metadata": {
        "id": "Qh4pLOnoIsMw",
        "colab": {
          "base_uri": "https://localhost:8080/"
        },
        "outputId": "12aabdb5-ec13-4a84-ddef-9f98b921b6de"
      },
      "source": [
        "import subprocess\n",
        "\n",
        "path = \"/content/drive/MyDrive/avspeech/\"\n",
        "csv_path = path+\"avspeech_audio_train.csv\"\n",
        "\n",
        "#baseurl = 'https://www.youtube.com/watch?v='\n",
        "basecmd = \"youtube-dl -g https://www.youtube.com/watch?v=\"\n",
        "for idx in range(len(df)):\n",
        "  print(idx, \"start\")\n",
        "  filename = df.loc[idx, 0]\n",
        "  cmd = basecmd + filename\n",
        "  start = df.loc[idx, 1]\n",
        "  end = df.loc[idx, 2]\n",
        "\n",
        "  starttime = c_time(start)\n",
        "  endtime = c_time(end - start)\n",
        "  \n",
        "  error = 0\n",
        "  cmd_in = cmd.split()\n",
        "\n",
        "  try:\n",
        "    out = subprocess.check_output(cmd_in)\n",
        "    out = out.split()[1].decode()\n",
        "  except:\n",
        "    error = 1\n",
        "    print(idx , \"youtube-dl error\")\n",
        "\n",
        "  if(error):\n",
        "    continue\n",
        "\n",
        "  cmd_audio = \"ffmpeg -ss \" + starttime + \" -i \" + out + \" -ar 16000 -f wav -t \" + endtime + \" \" + path + filename+ \".wav\"\n",
        "  #print(cmd_audio)\n",
        "  cmd_audio = cmd_audio.split()\n",
        "\n",
        "\n",
        "  try:\n",
        "    subprocess.run(cmd_audio, check=True)\n",
        "  except:\n",
        "    print(idx ,\"ffmpeg error\")\n",
        "    error =1\n",
        "    \n",
        "  if(error):\n",
        "    continue\n",
        "  \n",
        "  new_csv = [[filename, start, end]]\n",
        "  new_csv = pd.DataFrame(new_csv)\n",
        "  new_csv.to_csv(csv_path,index=False, header = False, mode='a')\n",
        "\n"
      ],
      "execution_count": null,
      "outputs": [
        {
          "output_type": "stream",
          "text": [
            "0 start\n",
            "1 start\n",
            "2 start\n",
            "3 start\n",
            "4 start\n",
            "5 start\n",
            "6 start\n",
            "7 start\n",
            "8 start\n",
            "9 start\n"
          ],
          "name": "stdout"
        }
      ]
    }
  ]
}